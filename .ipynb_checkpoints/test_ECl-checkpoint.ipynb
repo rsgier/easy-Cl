{
 "cells": [
  {
   "cell_type": "markdown",
   "metadata": {},
   "source": [
    "# imports"
   ]
  },
  {
   "cell_type": "code",
   "execution_count": 1,
   "metadata": {},
   "outputs": [
    {
     "name": "stderr",
     "output_type": "stream",
     "text": [
      "/Users/rsgier/venv/lib/python2.7/site-packages/h5py/__init__.py:36: FutureWarning: Conversion of the second argument of issubdtype from `float` to `np.floating` is deprecated. In future, it will be treated as `np.float64 == np.dtype(float).type`.\n",
      "  from ._conv import register_converters as _register_converters\n"
     ]
    }
   ],
   "source": [
    "%matplotlib inline\n",
    "import numpy as np\n",
    "import pynbody\n",
    "import math\n",
    "import matplotlib\n",
    "import matplotlib.pyplot as plt\n",
    "import healpy as hp\n",
    "import scipy\n",
    "import ECl"
   ]
  },
  {
   "cell_type": "code",
   "execution_count": null,
   "metadata": {},
   "outputs": [],
   "source": [
    "# mean over 1000 Cl's\n",
    "\n",
    "Cl_fullsky_mean = np.load('/Users/rsgier/Documents/PhD/Projects/task_force/test_Synfast_Polspice/Cl_PyCosmo_pseudo_fullsky_mean.npy')\n",
    "Cl_masked_mean = np.load('/Users/rsgier/Documents/PhD/Projects/task_force/test_Synfast_Polspice/Cl_PyCosmo_pseudo_masked_mean.npy')\n",
    "l_PyCosmo = np.arange(len(Cl_PyCosmo))\n",
    "\n",
    "l = np.arange(len(Cl_fullsky_mean))\n"
   ]
  }
 ],
 "metadata": {
  "kernelspec": {
   "display_name": "Python 2",
   "language": "python",
   "name": "python2"
  },
  "language_info": {
   "codemirror_mode": {
    "name": "ipython",
    "version": 2
   },
   "file_extension": ".py",
   "mimetype": "text/x-python",
   "name": "python",
   "nbconvert_exporter": "python",
   "pygments_lexer": "ipython2",
   "version": "2.7.14"
  }
 },
 "nbformat": 4,
 "nbformat_minor": 2
}
